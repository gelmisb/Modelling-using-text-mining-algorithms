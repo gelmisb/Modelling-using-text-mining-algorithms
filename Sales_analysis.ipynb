{
 "cells": [
  {
   "attachments": {},
   "cell_type": "markdown",
   "metadata": {},
   "source": [
    "Initially the data has to be read and analysed.\n",
    "For this to be done, several libraries have to be in place\n",
    "Libraries such as pandas, numpy and for looking at the plots, matplotlib."
   ]
  },
  {
   "attachments": {},
   "cell_type": "markdown",
   "metadata": {},
   "source": [
    "To instal these libraries open CMD, PS or GitBash as admin and run these commands:\n",
    "\n",
    "- pandas    - pip install pandas\n",
    "- numpy     - pip install numpy\n",
    "- matplotlib- pip install matplotlib"
   ]
  },
  {
   "cell_type": "code",
   "execution_count": null,
   "metadata": {},
   "outputs": [],
   "source": [
    "import pandas as pd\n",
    "import numpy as np\n",
    "import matplotlib.pyplot as plt"
   ]
  }
 ],
 "metadata": {
  "language_info": {
   "name": "python"
  },
  "orig_nbformat": 4
 },
 "nbformat": 4,
 "nbformat_minor": 2
}
